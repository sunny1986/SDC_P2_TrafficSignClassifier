{
 "cells": [
  {
   "cell_type": "markdown",
   "metadata": {
    "deletable": true,
    "editable": true
   },
   "source": [
    "# Project 2: Traffic Sign Classifier Solution : LeNet architecture as base\n",
    "![LeNet Architecture](lenet.png)\n",
    "Source: Yan LeCun"
   ]
  },
  {
   "cell_type": "markdown",
   "metadata": {
    "deletable": true,
    "editable": true
   },
   "source": [
    "### The goals / steps of this project are the following:\n",
    "Load the data set\n",
    "\n",
    "Explore, summarize and visualize the data set.\n",
    "\n",
    "Design, train and test a model architecture.\n",
    "\n",
    "Use the model to make predictions on new images.\n",
    "\n",
    "Analyze the softmax probabilities of the new images.\n",
    "\n",
    "Summarize the results with a written report.\n"
   ]
  },
  {
   "cell_type": "markdown",
   "metadata": {
    "deletable": true,
    "editable": true
   },
   "source": [
    "## Load Data"
   ]
  },
  {
   "cell_type": "code",
   "execution_count": 13,
   "metadata": {
    "collapsed": true,
    "deletable": true,
    "editable": true
   },
   "outputs": [],
   "source": [
    "##### Data Set Summary & Exploration\n",
    "# Load pickled data\n",
    "import pickle\n",
    "import cv2\n",
    "from numpy import newaxis\n",
    "from skimage import exposure\n",
    "import random\n",
    "import matplotlib.image as mpimg\n",
    "import numpy as np\n",
    "import matplotlib.pyplot as plt\n",
    "%matplotlib inline\n",
    "\n",
    "training_file = 'train.p'\n",
    "validation_file= 'valid.p'\n",
    "testing_file = 'test.p'\n",
    "\n",
    "with open(training_file, mode='rb') as f:\n",
    "    train = pickle.load(f)\n",
    "with open(validation_file, mode='rb') as f:\n",
    "    valid = pickle.load(f)\n",
    "with open(testing_file, mode='rb') as f:\n",
    "    test = pickle.load(f)"
   ]
  },
  {
   "cell_type": "markdown",
   "metadata": {
    "deletable": true,
    "editable": true
   },
   "source": [
    "## Summarize Data"
   ]
  },
  {
   "cell_type": "code",
   "execution_count": 14,
   "metadata": {
    "collapsed": false,
    "deletable": true,
    "editable": true
   },
   "outputs": [
    {
     "name": "stdout",
     "output_type": "stream",
     "text": [
      "Original Image Shape:   (32, 32, 3)\n",
      "Training Set size:      34799\n",
      "Validation Set size:    4410\n",
      "Test Set size:          12630\n",
      "Number of classes:      43\n"
     ]
    }
   ],
   "source": [
    "X_train, y_train = train['features'], train['labels']\n",
    "X_valid, y_valid = valid['features'], valid['labels']\n",
    "X_test, y_test = test['features'], test['labels']\n",
    "\n",
    "X_web = []\n",
    "for i in range (1,6):\n",
    "    img = mpimg.imread('web'+str(i)+'.jpg')    \n",
    "    X_web = X_web + [img]\n",
    "\n",
    "Y_web = [38,28,27,22,14]\n",
    "\n",
    "# Finding out how many unique classes/labels there are in the dataset\n",
    "unique, counts = np.unique(y_train, return_counts=True)\n",
    "\n",
    "print(\"Original Image Shape:  \",X_train[0].shape)\n",
    "print(\"Training Set size:     \",len(X_train))\n",
    "print(\"Validation Set size:   \",len(X_valid))\n",
    "print(\"Test Set size:         \",len(X_test))\n",
    "print(\"Number of classes:     \", len(unique))"
   ]
  },
  {
   "cell_type": "markdown",
   "metadata": {
    "deletable": true,
    "editable": true
   },
   "source": [
    "## Explore Data"
   ]
  },
  {
   "cell_type": "code",
   "execution_count": 15,
   "metadata": {
    "collapsed": false,
    "deletable": true,
    "editable": true
   },
   "outputs": [
    {
     "data": {
      "image/png": "[encoded data removed]",
      "text/plain": [
       "<matplotlib.figure.Figure at 0xd29c5f8>"
      ]
     },
     "metadata": {},
     "output_type": "display_data"
    }
   ],
   "source": [
    "###### Exploratory visualization of the dataset\n",
    "unique, counts = np.unique(y_train, return_counts=True)\n",
    "plt.bar(unique, counts)\n",
    "plt.show()"
   ]
  },
  {
   "cell_type": "markdown",
   "metadata": {
    "deletable": true,
    "editable": true
   },
   "source": [
    "## Visualize Data"
   ]
  },
  {
   "cell_type": "code",
   "execution_count": 16,
   "metadata": {
    "collapsed": false,
    "deletable": true,
    "editable": true
   },
   "outputs": [
    {
     "data": {
      "image/png": "[encoded data removed]",
      "text/plain": [
       "<matplotlib.figure.Figure at 0xd21be48>"
      ]
     },
     "metadata": {},
     "output_type": "display_data"
    },
    {
     "data": {
      "image/png": "[encoded data removed]",
      "text/plain": [
       "<matplotlib.figure.Figure at 0xa70e4a8>"
      ]
     },
     "metadata": {},
     "output_type": "display_data"
    },
    {
     "data": {
      "image/png": "[encoded data removed]",
      "text/plain": [
       "<matplotlib.figure.Figure at 0xa756940>"
      ]
     },
     "metadata": {},
     "output_type": "display_data"
    },
    {
     "data": {
      "image/png": "[encoded data removed]",
      "text/plain": [
       "<matplotlib.figure.Figure at 0xab4c5c0>"
      ]
     },
     "metadata": {},
     "output_type": "display_data"
    }
   ],
   "source": [
    "##### Visualize and verify hist equalization\n",
    "# Pick one of the images\n",
    "test = X_train[2567].squeeze()\n",
    "plt.figure(figsize=(1,1))\n",
    "plt.imshow(test)\n",
    "\n",
    "# Orig image histogram\n",
    "testgray = cv2.cvtColor(test, cv2.COLOR_RGB2GRAY)\n",
    "plt.figure(figsize=(1,1))\n",
    "plt.hist(testgray.ravel(),256,[0,256])\n",
    "plt.show()\n",
    "\n",
    "# Equalizer\n",
    "b,g,r = cv2.split(test)\n",
    "b = exposure.equalize_hist(b)\n",
    "g = exposure.equalize_hist(g)\n",
    "r = exposure.equalize_hist(r)\n",
    "equalized = cv2.merge((b,g,r))\n",
    "plt.figure(figsize=(1,1))\n",
    "plt.imshow(equalized)\n",
    "\n",
    "# Equalized image histogram\n",
    "equalized_rescaled = exposure.rescale_intensity(equalized, out_range=(0, 255))\n",
    "plt.figure(figsize=(1,1))\n",
    "plt.hist(equalized_rescaled.ravel(),256,[0,256])\n",
    "plt.show()"
   ]
  },
  {
   "cell_type": "markdown",
   "metadata": {
    "deletable": true,
    "editable": true
   },
   "source": [
    "## Preprocess Data"
   ]
  },
  {
   "cell_type": "code",
   "execution_count": 17,
   "metadata": {
    "collapsed": false,
    "deletable": true,
    "editable": true
   },
   "outputs": [],
   "source": [
    "##### Preprocessing functions \n",
    "\n",
    "def normalize(images):\n",
    "    a = []\n",
    "    for image in images:\n",
    "        a.append((image-128)/255)\n",
    "    return a\n",
    "\n",
    "def shapeadjust(images):    \n",
    "    a = []\n",
    "    for x in images:\n",
    "        a.append(x[...,newaxis])    \n",
    "    return a\n",
    "\n",
    "# hist_equalizer function works better on single channel images hence split and merge\n",
    "def hist_equalizer(images): \n",
    "    eq = []\n",
    "    for image in images:\n",
    "        b,g,r = cv2.split(image)\n",
    "        b = exposure.equalize_hist(b)\n",
    "        g = exposure.equalize_hist(g)\n",
    "        r = exposure.equalize_hist(r)\n",
    "        img = cv2.merge((b,g,r))\n",
    "        img = exposure.rescale_intensity(img, out_range=(0, 255))\n",
    "        eq.append(img)\n",
    "    return eq\n",
    "\n",
    "# Equalize data\n",
    "X_train = hist_equalizer(X_train)\n",
    "X_valid = hist_equalizer(X_valid)\n",
    "X_test = hist_equalizer(X_test)\n",
    "X_web = hist_equalizer(X_web)\n",
    "\n",
    "# Normalization of data\n",
    "X_train = normalize(X_train)\n",
    "X_valid = normalize(X_valid)\n",
    "X_test = normalize(X_test)\n",
    "X_web = normalize(X_web)"
   ]
  },
  {
   "cell_type": "code",
   "execution_count": 18,
   "metadata": {
    "collapsed": false,
    "deletable": true,
    "editable": true
   },
   "outputs": [],
   "source": [
    "# Shuffle the training data.\n",
    "from sklearn.utils import shuffle\n",
    "\n",
    "X_train, y_train = shuffle(X_train, y_train)"
   ]
  },
  {
   "cell_type": "markdown",
   "metadata": {
    "deletable": true,
    "editable": true
   },
   "source": [
    "## Setup TensorFlow\n",
    "The `EPOCH` and `BATCH_SIZE` values affect the training speed and model accuracy."
   ]
  },
  {
   "cell_type": "code",
   "execution_count": 19,
   "metadata": {
    "collapsed": true,
    "deletable": true,
    "editable": true
   },
   "outputs": [],
   "source": [
    "import tensorflow as tf\n",
    "\n",
    "EPOCHS = 90\n",
    "BATCH_SIZE = 64"
   ]
  },
  {
   "cell_type": "markdown",
   "metadata": {
    "deletable": true,
    "editable": true
   },
   "source": [
    "## SOLUTION: Implement modified LeNet-5\n",
    "Implement the [LeNet-5](http://yann.lecun.com/exdb/lenet/) neural network architecture as the base architecture and adjust/tweak as required for this application.\n",
    "\n",
    "### Input\n",
    "The LeNet architecture accepts a 32x32xC image as input, where C is the number of color channels.I have used color images hence C = 3\n",
    "\n",
    "### Architecture\n",
    "**Layer 1: Convolutional.** The output shape should be 28x28x6.\n",
    "\n",
    "**Activation.** RELU as an activation function.\n",
    "\n",
    "**Pooling.** The output shape should be 14x14x6.\n",
    "\n",
    "**Layer 2: Convolutional.** The output shape should be 10x10x16.\n",
    "\n",
    "**Activation.** RELU as an activation function.\n",
    "\n",
    "**Pooling.** The output shape should be 5x5x16.\n",
    "\n",
    "**Flatten.** Flatten the output shape of the final pooling layer such that it's 1D instead of 3D. The easiest way to do is by using `tf.contrib.layers.flatten`, flatten into 400 outputs\n",
    "\n",
    "**Layer 3: Fully Connected.** This should have 120 outputs.\n",
    "\n",
    "**Activation.** RELU as an activation function.\n",
    "\n",
    "**Dropout.** Dropout layer with keep_prob = 0.5 for training.\n",
    "\n",
    "**Layer 4: Fully Connected.** This should have 84 outputs.\n",
    "\n",
    "**Activation.** RELU as an activation function.\n",
    "\n",
    "**Dropout.** Dropout layer with keep_prob = 0.5 for training.\n",
    "\n",
    "**Layer 5: Fully Connected (Logits).** This should have 10 outputs.\n",
    "\n",
    "### Output\n",
    "Return the result of the 2nd fully connected layer."
   ]
  },
  {
   "cell_type": "code",
   "execution_count": 20,
   "metadata": {
    "collapsed": false,
    "deletable": true,
    "editable": true
   },
   "outputs": [],
   "source": [
    "from tensorflow.contrib.layers import flatten\n",
    "\n",
    "def LeNet(x, dropout):    \n",
    "    # Arguments used for tf.truncated_normal, randomly defines variables for the weights and biases for each layer\n",
    "    mu = 0\n",
    "    sigma = 0.05\n",
    "    \n",
    "    # Layer 1: Convolutional. Input = 32x32x3. Output = 28x28x6.\n",
    "    F1_w = tf.Variable(tf.truncated_normal(shape = (5,5,3,6), mean = mu, stddev = sigma))\n",
    "    F1_b = tf.Variable(tf.zeros(6))\n",
    "    c1 = tf.nn.conv2d(x, F1_w, strides = [1,1,1,1], padding = 'VALID') + F1_b\n",
    "   \n",
    "    # Activation.\n",
    "    c1 = tf.nn.relu(c1)\n",
    "    \n",
    "    # Pooling. Input = 28x28x6. Output = 14x14x6.\n",
    "    p1 = tf.nn.max_pool(c1, ksize = [1,2,2,1], strides = [1,2,2,1], padding = 'VALID')\n",
    "    \n",
    "    # Layer 2: Convolutional. Output = 10x10x16.\n",
    "    F2_w = tf.Variable(tf.truncated_normal(shape = (5,5,6,16), mean = mu, stddev = sigma))\n",
    "    F2_b = tf.Variable(tf.zeros(16))   \n",
    "    c2 = tf.nn.conv2d(p1, F2_w, strides = [1,1,1,1], padding = 'VALID') + F2_b\n",
    "    \n",
    "    # Activation.\n",
    "    c2 = tf.nn.relu(c2)\n",
    "    \n",
    "    # Pooling. Input = 10x10x16. Output = 5x5x16.\n",
    "    p2 = tf.nn.max_pool(c2, ksize = [1,2,2,1], strides = [1,2,2,1], padding = 'VALID')\n",
    "    \n",
    "    # Flatten. Input = 5x5x16. Output = 400.\n",
    "    flat_input = flatten(p2)\n",
    "    \n",
    "    # Layer 3: Fully Connected. Input = 400. Output = 120.\n",
    "    l3_weights = tf.Variable(tf.truncated_normal(shape = (400,120), mean = mu, stddev = sigma))\n",
    "    l3_bias = tf.Variable(tf.zeros(120))\n",
    "    l3 = tf.matmul(flat_input,l3_weights) + l3_bias\n",
    "        \n",
    "    # Activation.\n",
    "    l3 = tf.nn.relu(l3)\n",
    "    \n",
    "    # Dropout\n",
    "    l3 = tf.nn.dropout(l3, dropout)\n",
    "\n",
    "    # Layer 4: Fully Connected. Input = 120. Output = 84.\n",
    "    l4_weights = tf.Variable(tf.truncated_normal(shape = (120,84), mean = mu, stddev = sigma))\n",
    "    l4_bias = tf.Variable(tf.zeros(84))\n",
    "    l4 = tf.matmul(l3,l4_weights) + l4_bias\n",
    "        \n",
    "    # Activation.\n",
    "    l4 = tf.nn.relu(l4)\n",
    "    \n",
    "    # Dropout\n",
    "    l4 = tf.nn.dropout(l4, dropout)\n",
    "\n",
    "    # Layer 5: Fully Connected. Input = 84. Output = 43.\n",
    "    l5_weights = tf.Variable(tf.truncated_normal(shape = (84,43), mean = mu, stddev = sigma))\n",
    "    l5_bias = tf.Variable(tf.zeros(43))\n",
    "    logits = tf.matmul(l4,l5_weights) + l5_bias\n",
    "        \n",
    "    return logits"
   ]
  },
  {
   "cell_type": "markdown",
   "metadata": {
    "deletable": true,
    "editable": true
   },
   "source": [
    "## Features and Labels\n",
    "Train LeNet to classify the traffic sign data.\n",
    "\n",
    "`x` is a placeholder for a batch of input images.\n",
    "`y` is a placeholder for a batch of output labels.\n"
   ]
  },
  {
   "cell_type": "code",
   "execution_count": 21,
   "metadata": {
    "collapsed": false,
    "deletable": true,
    "editable": true
   },
   "outputs": [],
   "source": [
    "x = tf.placeholder(tf.float32, (None, 32, 32, 3))\n",
    "y = tf.placeholder(tf.int32, (None))\n",
    "keep_prob = tf.placeholder(tf.float32) #dropout - keep probability\n",
    "one_hot_y = tf.one_hot(y, 43)"
   ]
  },
  {
   "cell_type": "markdown",
   "metadata": {
    "deletable": true,
    "editable": true
   },
   "source": [
    "## Training Pipeline\n",
    "Create a training pipeline that uses the model to classify the traffic sign data."
   ]
  },
  {
   "cell_type": "code",
   "execution_count": 22,
   "metadata": {
    "collapsed": false,
    "deletable": true,
    "editable": true
   },
   "outputs": [],
   "source": [
    "rate = 0.0009\n",
    "dropout = 0.50\n",
    "\n",
    "logits = LeNet(x, keep_prob)\n",
    "cross_entropy = tf.nn.softmax_cross_entropy_with_logits(logits=logits, labels=one_hot_y)\n",
    "loss_operation = tf.reduce_mean(cross_entropy)\n",
    "optimizer = tf.train.AdamOptimizer(learning_rate = rate)\n",
    "training_operation = optimizer.minimize(loss_operation)"
   ]
  },
  {
   "cell_type": "markdown",
   "metadata": {
    "deletable": true,
    "editable": true
   },
   "source": [
    "## Model Evaluation\n",
    "Evaluate how well the loss and accuracy of the model for a given dataset."
   ]
  },
  {
   "cell_type": "code",
   "execution_count": 23,
   "metadata": {
    "collapsed": false,
    "deletable": true,
    "editable": true
   },
   "outputs": [],
   "source": [
    "correct_prediction = tf.equal(tf.argmax(logits, 1), tf.argmax(one_hot_y, 1))\n",
    "accuracy_operation = tf.reduce_mean(tf.cast(correct_prediction, tf.float32))\n",
    "saver = tf.train.Saver()\n",
    "\n",
    "def evaluate(X_data, y_data):\n",
    "    num_examples = len(X_data)\n",
    "    total_accuracy = 0\n",
    "    sess = tf.get_default_session()\n",
    "    for offset in range(0, num_examples, BATCH_SIZE):\n",
    "        batch_x, batch_y = X_data[offset:offset+BATCH_SIZE], y_data[offset:offset+BATCH_SIZE]\n",
    "        accuracy = sess.run(accuracy_operation, feed_dict={x: batch_x, y: batch_y, keep_prob:1.})        \n",
    "        total_accuracy += (accuracy * len(batch_x))\n",
    "    return total_accuracy / num_examples"
   ]
  },
  {
   "cell_type": "markdown",
   "metadata": {
    "deletable": true,
    "editable": true
   },
   "source": [
    "## Train the Model\n",
    "Run the training data through the training pipeline to train the model.\n",
    "\n",
    "Before each epoch, shuffle the training set.\n",
    "\n",
    "After each epoch, measure the loss and accuracy of the validation set.\n",
    "\n",
    "Save the model after training."
   ]
  },
  {
   "cell_type": "code",
   "execution_count": 24,
   "metadata": {
    "collapsed": false,
    "deletable": true,
    "editable": true
   },
   "outputs": [
    {
     "name": "stdout",
     "output_type": "stream",
     "text": [
      "Training...\n",
      "\n",
      "EPOCH 1 ...\n",
      "Training Accuracy = 0.616\n",
      "Validation Accuracy = 0.592\n",
      "\n",
      "EPOCH 2 ...\n",
      "Training Accuracy = 0.834\n",
      "Validation Accuracy = 0.790\n",
      "\n",
      "EPOCH 3 ...\n",
      "Training Accuracy = 0.902\n",
      "Validation Accuracy = 0.858\n",
      "\n",
      "EPOCH 4 ...\n",
      "Training Accuracy = 0.924\n",
      "Validation Accuracy = 0.883\n",
      "\n",
      "EPOCH 5 ...\n",
      "Training Accuracy = 0.944\n",
      "Validation Accuracy = 0.896\n",
      "\n",
      "EPOCH 6 ...\n",
      "Training Accuracy = 0.962\n",
      "Validation Accuracy = 0.926\n",
      "\n",
      "EPOCH 7 ...\n",
      "Training Accuracy = 0.967\n",
      "Validation Accuracy = 0.932\n",
      "\n",
      "EPOCH 8 ...\n",
      "Training Accuracy = 0.974\n",
      "Validation Accuracy = 0.938\n",
      "\n",
      "EPOCH 9 ...\n",
      "Training Accuracy = 0.978\n",
      "Validation Accuracy = 0.945\n",
      "\n",
      "EPOCH 10 ...\n",
      "Training Accuracy = 0.983\n",
      "Validation Accuracy = 0.949\n",
      "\n",
      "EPOCH 11 ...\n",
      "Training Accuracy = 0.984\n",
      "Validation Accuracy = 0.952\n",
      "\n",
      "EPOCH 12 ...\n",
      "Training Accuracy = 0.986\n",
      "Validation Accuracy = 0.954\n",
      "\n",
      "EPOCH 13 ...\n",
      "Training Accuracy = 0.987\n",
      "Validation Accuracy = 0.954\n",
      "\n",
      "EPOCH 14 ...\n",
      "Training Accuracy = 0.988\n",
      "Validation Accuracy = 0.955\n",
      "\n",
      "EPOCH 15 ...\n",
      "Training Accuracy = 0.991\n",
      "Validation Accuracy = 0.958\n",
      "\n",
      "EPOCH 16 ...\n",
      "Training Accuracy = 0.991\n",
      "Validation Accuracy = 0.956\n",
      "\n",
      "EPOCH 17 ...\n",
      "Training Accuracy = 0.993\n",
      "Validation Accuracy = 0.963\n",
      "\n",
      "EPOCH 18 ...\n",
      "Training Accuracy = 0.993\n",
      "Validation Accuracy = 0.959\n",
      "\n",
      "EPOCH 19 ...\n",
      "Training Accuracy = 0.991\n",
      "Validation Accuracy = 0.957\n",
      "\n",
      "EPOCH 20 ...\n",
      "Training Accuracy = 0.993\n",
      "Validation Accuracy = 0.957\n",
      "\n",
      "EPOCH 21 ...\n",
      "Training Accuracy = 0.994\n",
      "Validation Accuracy = 0.959\n",
      "\n",
      "EPOCH 22 ...\n",
      "Training Accuracy = 0.994\n",
      "Validation Accuracy = 0.962\n",
      "\n",
      "EPOCH 23 ...\n",
      "Training Accuracy = 0.994\n",
      "Validation Accuracy = 0.961\n",
      "\n",
      "EPOCH 24 ...\n",
      "Training Accuracy = 0.994\n",
      "Validation Accuracy = 0.960\n",
      "\n",
      "EPOCH 25 ...\n",
      "Training Accuracy = 0.996\n",
      "Validation Accuracy = 0.962\n",
      "\n",
      "EPOCH 26 ...\n",
      "Training Accuracy = 0.996\n",
      "Validation Accuracy = 0.963\n",
      "\n",
      "EPOCH 27 ...\n",
      "Training Accuracy = 0.995\n",
      "Validation Accuracy = 0.959\n",
      "\n",
      "EPOCH 28 ...\n",
      "Training Accuracy = 0.996\n",
      "Validation Accuracy = 0.962\n",
      "\n",
      "EPOCH 29 ...\n",
      "Training Accuracy = 0.996\n",
      "Validation Accuracy = 0.963\n",
      "\n",
      "EPOCH 30 ...\n",
      "Training Accuracy = 0.996\n",
      "Validation Accuracy = 0.960\n",
      "\n",
      "EPOCH 31 ...\n",
      "Training Accuracy = 0.998\n",
      "Validation Accuracy = 0.967\n",
      "\n",
      "EPOCH 32 ...\n",
      "Training Accuracy = 0.998\n",
      "Validation Accuracy = 0.967\n",
      "\n",
      "EPOCH 33 ...\n",
      "Training Accuracy = 0.998\n",
      "Validation Accuracy = 0.966\n",
      "\n",
      "EPOCH 34 ...\n",
      "Training Accuracy = 0.997\n",
      "Validation Accuracy = 0.967\n",
      "\n",
      "EPOCH 35 ...\n",
      "Training Accuracy = 0.998\n",
      "Validation Accuracy = 0.966\n",
      "\n",
      "EPOCH 36 ...\n",
      "Training Accuracy = 0.998\n",
      "Validation Accuracy = 0.971\n",
      "\n",
      "EPOCH 37 ...\n",
      "Training Accuracy = 0.998\n",
      "Validation Accuracy = 0.973\n",
      "\n",
      "EPOCH 38 ...\n",
      "Training Accuracy = 0.997\n",
      "Validation Accuracy = 0.971\n",
      "\n",
      "EPOCH 39 ...\n",
      "Training Accuracy = 0.998\n",
      "Validation Accuracy = 0.968\n",
      "\n",
      "EPOCH 40 ...\n",
      "Training Accuracy = 0.998\n",
      "Validation Accuracy = 0.971\n",
      "\n",
      "EPOCH 41 ...\n",
      "Training Accuracy = 0.998\n",
      "Validation Accuracy = 0.969\n",
      "\n",
      "EPOCH 42 ...\n",
      "Training Accuracy = 0.998\n",
      "Validation Accuracy = 0.973\n",
      "\n",
      "EPOCH 43 ...\n",
      "Training Accuracy = 0.999\n",
      "Validation Accuracy = 0.973\n",
      "\n",
      "EPOCH 44 ...\n",
      "Training Accuracy = 0.998\n",
      "Validation Accuracy = 0.969\n",
      "\n",
      "EPOCH 45 ...\n",
      "Training Accuracy = 0.998\n",
      "Validation Accuracy = 0.969\n",
      "\n",
      "EPOCH 46 ...\n",
      "Training Accuracy = 0.999\n",
      "Validation Accuracy = 0.970\n",
      "\n",
      "EPOCH 47 ...\n",
      "Training Accuracy = 0.999\n",
      "Validation Accuracy = 0.972\n",
      "\n",
      "EPOCH 48 ...\n",
      "Training Accuracy = 0.999\n",
      "Validation Accuracy = 0.973\n",
      "\n",
      "EPOCH 49 ...\n",
      "Training Accuracy = 0.998\n",
      "Validation Accuracy = 0.971\n",
      "\n",
      "EPOCH 50 ...\n",
      "Training Accuracy = 0.998\n",
      "Validation Accuracy = 0.971\n",
      "\n",
      "EPOCH 51 ...\n",
      "Training Accuracy = 0.998\n",
      "Validation Accuracy = 0.973\n",
      "\n",
      "EPOCH 52 ...\n",
      "Training Accuracy = 0.999\n",
      "Validation Accuracy = 0.974\n",
      "\n",
      "EPOCH 53 ...\n",
      "Training Accuracy = 0.999\n",
      "Validation Accuracy = 0.971\n",
      "\n",
      "EPOCH 54 ...\n",
      "Training Accuracy = 0.999\n",
      "Validation Accuracy = 0.969\n",
      "\n",
      "EPOCH 55 ...\n",
      "Training Accuracy = 0.999\n",
      "Validation Accuracy = 0.974\n",
      "\n",
      "EPOCH 56 ...\n",
      "Training Accuracy = 0.999\n",
      "Validation Accuracy = 0.971\n",
      "\n",
      "EPOCH 57 ...\n",
      "Training Accuracy = 0.999\n",
      "Validation Accuracy = 0.968\n",
      "\n",
      "EPOCH 58 ...\n",
      "Training Accuracy = 0.999\n",
      "Validation Accuracy = 0.971\n",
      "\n",
      "EPOCH 59 ...\n",
      "Training Accuracy = 0.998\n",
      "Validation Accuracy = 0.973\n",
      "\n",
      "EPOCH 60 ...\n",
      "Training Accuracy = 0.999\n",
      "Validation Accuracy = 0.977\n",
      "\n",
      "EPOCH 61 ...\n",
      "Training Accuracy = 0.998\n",
      "Validation Accuracy = 0.965\n",
      "\n",
      "EPOCH 62 ...\n",
      "Training Accuracy = 0.999\n",
      "Validation Accuracy = 0.972\n",
      "\n",
      "EPOCH 63 ...\n",
      "Training Accuracy = 0.999\n",
      "Validation Accuracy = 0.972\n",
      "\n",
      "EPOCH 64 ...\n",
      "Training Accuracy = 0.999\n",
      "Validation Accuracy = 0.970\n",
      "\n",
      "EPOCH 65 ...\n",
      "Training Accuracy = 0.999\n",
      "Validation Accuracy = 0.974\n",
      "\n",
      "EPOCH 66 ...\n",
      "Training Accuracy = 0.999\n",
      "Validation Accuracy = 0.971\n",
      "\n",
      "EPOCH 67 ...\n",
      "Training Accuracy = 0.999\n",
      "Validation Accuracy = 0.970\n",
      "\n",
      "EPOCH 68 ...\n",
      "Training Accuracy = 0.999\n",
      "Validation Accuracy = 0.970\n",
      "\n",
      "EPOCH 69 ...\n",
      "Training Accuracy = 0.999\n",
      "Validation Accuracy = 0.962\n",
      "\n",
      "EPOCH 70 ...\n",
      "Training Accuracy = 0.999\n",
      "Validation Accuracy = 0.971\n",
      "\n",
      "EPOCH 71 ...\n",
      "Training Accuracy = 0.999\n",
      "Validation Accuracy = 0.973\n",
      "\n",
      "EPOCH 72 ...\n",
      "Training Accuracy = 0.999\n",
      "Validation Accuracy = 0.974\n",
      "\n",
      "EPOCH 73 ...\n",
      "Training Accuracy = 0.999\n",
      "Validation Accuracy = 0.971\n",
      "\n",
      "EPOCH 74 ...\n",
      "Training Accuracy = 0.999\n",
      "Validation Accuracy = 0.975\n",
      "\n",
      "EPOCH 75 ...\n",
      "Training Accuracy = 0.999\n",
      "Validation Accuracy = 0.971\n",
      "\n",
      "EPOCH 76 ...\n",
      "Training Accuracy = 0.999\n",
      "Validation Accuracy = 0.975\n",
      "\n",
      "EPOCH 77 ...\n",
      "Training Accuracy = 0.999\n",
      "Validation Accuracy = 0.974\n",
      "\n",
      "EPOCH 78 ...\n",
      "Training Accuracy = 0.999\n",
      "Validation Accuracy = 0.973\n",
      "\n",
      "EPOCH 79 ...\n",
      "Training Accuracy = 0.999\n",
      "Validation Accuracy = 0.972\n",
      "\n",
      "EPOCH 80 ...\n",
      "Training Accuracy = 0.999\n",
      "Validation Accuracy = 0.977\n",
      "\n",
      "EPOCH 81 ...\n",
      "Training Accuracy = 0.999\n",
      "Validation Accuracy = 0.975\n",
      "\n",
      "EPOCH 82 ...\n",
      "Training Accuracy = 1.000\n",
      "Validation Accuracy = 0.975\n",
      "\n",
      "EPOCH 83 ...\n",
      "Training Accuracy = 0.999\n",
      "Validation Accuracy = 0.974\n",
      "\n",
      "EPOCH 84 ...\n",
      "Training Accuracy = 1.000\n",
      "Validation Accuracy = 0.971\n",
      "\n",
      "EPOCH 85 ...\n",
      "Training Accuracy = 0.999\n",
      "Validation Accuracy = 0.975\n",
      "\n",
      "EPOCH 86 ...\n",
      "Training Accuracy = 0.999\n",
      "Validation Accuracy = 0.975\n",
      "\n",
      "EPOCH 87 ...\n",
      "Training Accuracy = 1.000\n",
      "Validation Accuracy = 0.973\n",
      "\n",
      "EPOCH 88 ...\n",
      "Training Accuracy = 0.998\n",
      "Validation Accuracy = 0.969\n",
      "\n",
      "EPOCH 89 ...\n",
      "Training Accuracy = 0.998\n",
      "Validation Accuracy = 0.970\n",
      "\n",
      "EPOCH 90 ...\n",
      "Training Accuracy = 0.999\n",
      "Validation Accuracy = 0.974\n",
      "\n"
     ]
    },
    {
     "data": {
      "image/png": "[encoded data removed]",
      "text/plain": [
       "<matplotlib.figure.Figure at 0x1c23d828>"
      ]
     },
     "metadata": {},
     "output_type": "display_data"
    },
    {
     "name": "stdout",
     "output_type": "stream",
     "text": [
      "Model saved\n"
     ]
    }
   ],
   "source": [
    "with tf.Session() as sess:\n",
    "    sess.run(tf.global_variables_initializer())\n",
    "    num_examples = len(X_train)\n",
    "    \n",
    "    print(\"Training...\")\n",
    "    print()\n",
    "    trainacc = []\n",
    "    validacc = []    \n",
    "    for i in range(EPOCHS):\n",
    "        X_train, y_train = shuffle(X_train, y_train)\n",
    "        for offset in range(0, num_examples, BATCH_SIZE):\n",
    "            end = offset + BATCH_SIZE\n",
    "            batch_x, batch_y = X_train[offset:end], y_train[offset:end]\n",
    "            sess.run(training_operation, feed_dict={x: batch_x, y: batch_y, keep_prob:dropout})\n",
    "                    \n",
    "        training_accuracy = evaluate(X_train, y_train)\n",
    "        validation_accuracy = evaluate(X_valid, y_valid)        \n",
    "        print(\"EPOCH {} ...\".format(i+1))\n",
    "        print(\"Training Accuracy = {:.3f}\".format(training_accuracy))\n",
    "        print(\"Validation Accuracy = {:.3f}\".format(validation_accuracy))\n",
    "        print()\n",
    "        validacc = validacc + [validation_accuracy]\n",
    "        trainacc = trainacc + [training_accuracy]     \n",
    "        \n",
    "    x_axis = list(range(1,EPOCHS+1))\n",
    "    plt.plot(x_axis, trainacc, 'r-', label = \"train\")\n",
    "    plt.plot(x_axis, validacc, 'b-', label = \"valid\")    \n",
    "    plt.show()\n",
    "    saver.save(sess, './lenet')\n",
    "    print(\"Model saved\")"
   ]
  },
  {
   "cell_type": "markdown",
   "metadata": {
    "deletable": true,
    "editable": true
   },
   "source": [
    "## Evaluate the Model\n",
    "Once I was completely satisfied with the model, evaluate the performance of the model on the test set.\n",
    "\n",
    "Be sure to only do this once! \n",
    "\n",
    "##### If you were to measure the performance of your trained model on the test set, then improve your model, and then measure the performance of your model on the test set again, that would invalidate your test results. You wouldn't get a true measure of how well your model would perform against real data."
   ]
  },
  {
   "cell_type": "markdown",
   "metadata": {
    "deletable": true,
    "editable": true
   },
   "source": [
    "## Softmax calculations"
   ]
  },
  {
   "cell_type": "code",
   "execution_count": 25,
   "metadata": {
    "collapsed": true,
    "deletable": true,
    "editable": true
   },
   "outputs": [],
   "source": [
    "# Calculating softmax probabilities for web images\n",
    "web_logits = tf.placeholder(tf.float32)\n",
    "softmax = tf.nn.softmax(logits)"
   ]
  },
  {
   "cell_type": "markdown",
   "metadata": {
    "deletable": true,
    "editable": true
   },
   "source": [
    "## Calculate test set and web image set accuracy"
   ]
  },
  {
   "cell_type": "code",
   "execution_count": 26,
   "metadata": {
    "collapsed": false,
    "deletable": true,
    "editable": true
   },
   "outputs": [
    {
     "name": "stdout",
     "output_type": "stream",
     "text": [
      "Test Accuracy = 0.952\n",
      "Web Accuracy = 0.200\n",
      "\n",
      "TopKV2(values=array([[  9.99993563e-01,   6.46626131e-06,   3.15594271e-08,\n",
      "          7.41227923e-09,   4.73859529e-09],\n",
      "       [  8.69080722e-01,   1.22919701e-01,   5.14015881e-03,\n",
      "          1.70091947e-03,   1.11319788e-03],\n",
      "       [  9.97026145e-01,   1.72651478e-03,   1.13352295e-03,\n",
      "          4.94772466e-05,   3.14582030e-05],\n",
      "       [  1.00000000e+00,   3.25773399e-08,   7.65973596e-09,\n",
      "          1.79895698e-09,   5.67941083e-10],\n",
      "       [  8.64816427e-01,   1.33846104e-01,   1.33743125e-03,\n",
      "          1.90273095e-08,   3.41642076e-10]], dtype=float32), indices=array([[18, 26, 20, 40, 27],\n",
      "       [39,  2, 15, 33,  4],\n",
      "       [25, 29, 24,  5, 30],\n",
      "       [22, 26, 20, 18, 25],\n",
      "       [12, 17, 13, 26, 15]]))\n"
     ]
    }
   ],
   "source": [
    "with tf.Session() as sess:\n",
    "    saver.restore(sess, tf.train.latest_checkpoint('.'))\n",
    "\n",
    "    test_accuracy = evaluate(X_test, y_test)\n",
    "    web_accuracy = evaluate(X_web, Y_web)\n",
    "    print(\"Test Accuracy = {:.3f}\".format(test_accuracy))\n",
    "    print(\"Web Accuracy = {:.3f}\".format(web_accuracy))\n",
    "    \n",
    "    softmax_web = sess.run(softmax, feed_dict = {x: X_web, keep_prob:1.0})\n",
    "    top5 = sess.run(tf.nn.top_k(tf.constant(softmax_web), k=5))\n",
    "\n",
    "print()\n",
    "print(top5)"
   ]
  },
  {
   "cell_type": "code",
   "execution_count": 33,
   "metadata": {
    "collapsed": false
   },
   "outputs": [
    {
     "data": {
      "image/png": "[encoded data removed]",
      "text/plain": [
       "<matplotlib.figure.Figure at 0x2288d0f0>"
      ]
     },
     "metadata": {},
     "output_type": "display_data"
    }
   ],
   "source": [
    "# Plot softmax\n",
    "plt.bar([18, 26, 20, 40, 27],[9.99993563e-01,6.46626131e-06,3.15594271e-08,7.41227923e-09,4.73859529e-09])\n",
    "plt.xlabel('Classes')\n",
    "plt.ylabel('Softmax')\n",
    "plt.title('Web Image 1')\n",
    "plt.show()"
   ]
  },
  {
   "cell_type": "code",
   "execution_count": 34,
   "metadata": {
    "collapsed": false
   },
   "outputs": [
    {
     "data": {
      "image/png": "[encoded data removed]",
      "text/plain": [
       "<matplotlib.figure.Figure at 0x227eee48>"
      ]
     },
     "metadata": {},
     "output_type": "display_data"
    }
   ],
   "source": [
    "# Plot softmax\n",
    "plt.bar([39,  2, 15, 33,4],[8.69080722e-01,1.22919701e-01,5.14015881e-03,1.70091947e-03,1.11319788e-03])\n",
    "plt.xlabel('Classes')\n",
    "plt.ylabel('Softmax')\n",
    "plt.title('Web Image 2')\n",
    "plt.show()"
   ]
  },
  {
   "cell_type": "code",
   "execution_count": 36,
   "metadata": {
    "collapsed": false
   },
   "outputs": [
    {
     "data": {
      "image/png": "[encoded data removed]",
      "text/plain": [
       "<matplotlib.figure.Figure at 0xfa4da90>"
      ]
     },
     "metadata": {},
     "output_type": "display_data"
    }
   ],
   "source": [
    "# Plot softmax\n",
    "plt.bar([25, 29, 24,  5, 30],[9.97026145e-01,1.72651478e-03,1.13352295e-03,4.94772466e-05,3.14582030e-05])\n",
    "plt.xlabel('Classes')\n",
    "plt.ylabel('Softmax')\n",
    "plt.title('Web Image 3')\n",
    "plt.show()"
   ]
  },
  {
   "cell_type": "code",
   "execution_count": 37,
   "metadata": {
    "collapsed": false
   },
   "outputs": [
    {
     "data": {
      "image/png": "[encoded data removed]",
      "text/plain": [
       "<matplotlib.figure.Figure at 0x1aff21d0>"
      ]
     },
     "metadata": {},
     "output_type": "display_data"
    }
   ],
   "source": [
    "# Plot softmax\n",
    "plt.bar([22, 26, 20, 18, 25],[1.00000000e+00,3.25773399e-08,7.65973596e-09,1.79895698e-09,5.67941083e-10])\n",
    "plt.xlabel('Classes')\n",
    "plt.ylabel('Softmax')\n",
    "plt.title('Web Image 4')\n",
    "plt.show()"
   ]
  },
  {
   "cell_type": "code",
   "execution_count": 38,
   "metadata": {
    "collapsed": false
   },
   "outputs": [
    {
     "data": {
      "image/png": "[encoded data removed]",
      "text/plain": [
       "<matplotlib.figure.Figure at 0x227e0ef0>"
      ]
     },
     "metadata": {},
     "output_type": "display_data"
    }
   ],
   "source": [
    "# Plot softmax\n",
    "plt.bar([12, 17, 13, 26, 15],[8.64816427e-01,1.33846104e-01,1.33743125e-03,1.90273095e-08,3.41642076e-10])\n",
    "plt.xlabel('Classes')\n",
    "plt.ylabel('Softmax')\n",
    "plt.title('Web Image 5')\n",
    "plt.show()"
   ]
  }
 ],
 "metadata": {
  "anaconda-cloud": {},
  "kernelspec": {
   "display_name": "Python 3",
   "language": "python",
   "name": "python3"
  },
  "language_info": {
   "codemirror_mode": {
    "name": "ipython",
    "version": 3
   },
   "file_extension": ".py",
   "mimetype": "text/x-python",
   "name": "python",
   "nbconvert_exporter": "python",
   "pygments_lexer": "ipython3",
   "version": "3.5.2"
  },
  "widgets": {
   "state": {},
   "version": "1.1.2"
  }
 },
 "nbformat": 4,
 "nbformat_minor": 0
}
