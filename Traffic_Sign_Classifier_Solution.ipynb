{
 "cells": [
  {
   "cell_type": "markdown",
   "metadata": {
    "deletable": true,
    "editable": true
   },
   "source": [
    "# Traffic Sign Classifier based on LeNet Architecture\n",
    "![LeNet Architecture](lenet.png)\n",
    "Source: Yan LeCun"
   ]
  },
  {
   "cell_type": "markdown",
   "metadata": {
    "deletable": true,
    "editable": true
   },
   "source": [
    "## Load Data\n",
    "\n",
    "Load the German Traffic Sign data"
   ]
  },
  {
   "cell_type": "code",
   "execution_count": 1,
   "metadata": {
    "collapsed": false,
    "deletable": true,
    "editable": true
   },
   "outputs": [
    {
     "name": "stdout",
     "output_type": "stream",
     "text": [
      "Original Image Shape:  (32, 32, 3)\n",
      "Image Shape gray:  (32, 32, 1)\n",
      "\n",
      "Training Set:    34799\n",
      "Validation Set:  4410\n",
      "Test Set:        12630\n"
     ]
    }
   ],
   "source": [
    "# Load pickled data\n",
    "import pickle\n",
    "import cv2\n",
    "from numpy import newaxis\n",
    "\n",
    "# TODO: Fill this in based on where you saved the training and testing data\n",
    "\n",
    "training_file = 'train.p'\n",
    "validation_file= 'valid.p'\n",
    "testing_file = 'test.p'\n",
    "\n",
    "with open(training_file, mode='rb') as f:\n",
    "    train = pickle.load(f)\n",
    "with open(validation_file, mode='rb') as f:\n",
    "    valid = pickle.load(f)\n",
    "with open(testing_file, mode='rb') as f:\n",
    "    test = pickle.load(f)\n",
    "    \n",
    "X_train, y_train = train['features'], train['labels']\n",
    "X_valid, y_valid = valid['features'], valid['labels']\n",
    "X_test, y_test = test['features'], test['labels']\n",
    "\n",
    "print(\"Original Image Shape: \",X_train[0].shape)\n",
    "\n",
    "##### Preprocessing #####\n",
    "\n",
    "def to_gray(colorimages):\n",
    "    gray_images = []\n",
    "    for image in colorimages:\n",
    "        gray = cv2.cvtColor(image, cv2.COLOR_RGB2GRAY)\n",
    "        gray_images.append(gray)    \n",
    "    return gray_images\n",
    "\n",
    "def normalize(images):\n",
    "    a = []\n",
    "    for image in images:\n",
    "        a.append((image-128)/255)\n",
    "    return a\n",
    "\n",
    "def shapeadjust(images):    \n",
    "    a = []\n",
    "    for x in images:\n",
    "        a.append(x[...,newaxis])    \n",
    "    return a\n",
    "\n",
    "# Convert images to gray\n",
    "X_train = to_gray(X_train)\n",
    "X_valid = to_gray(X_valid)\n",
    "X_test = to_gray(X_test)\n",
    "\n",
    "# Normalization of data\n",
    "X_train = normalize(X_train)\n",
    "X_valid = normalize(X_valid)\n",
    "X_test = normalize(X_test)\n",
    "\n",
    "# Adjust the shape after conversion to grayscale\n",
    "X_train = shapeadjust(X_train)\n",
    "X_valid = shapeadjust(X_valid)\n",
    "X_test = shapeadjust(X_test)\n",
    "    \n",
    "print(\"Image Shape gray: \",X_train[0].shape)\n",
    "print()\n",
    "print(\"Training Set:   \",len(X_train))\n",
    "print(\"Validation Set: \",len(X_valid))\n",
    "print(\"Test Set:       \",len(X_test))"
   ]
  },
  {
   "cell_type": "markdown",
   "metadata": {
    "deletable": true,
    "editable": true
   },
   "source": [
    "## Visualize Data\n",
    "\n",
    "View a sample from the dataset.\n",
    "\n",
    "You do not need to modify this section."
   ]
  },
  {
   "cell_type": "code",
   "execution_count": 2,
   "metadata": {
    "collapsed": false,
    "deletable": true,
    "editable": true
   },
   "outputs": [
    {
     "name": "stdout",
     "output_type": "stream",
     "text": [
      "4\n"
     ]
    },
    {
     "data": {
      "image/png": "[encoded data removed]",
      "text/plain": [
       "<matplotlib.figure.Figure at 0xb6ac908>"
      ]
     },
     "metadata": {},
     "output_type": "display_data"
    }
   ],
   "source": [
    "import random\n",
    "import numpy as np\n",
    "import matplotlib.pyplot as plt\n",
    "%matplotlib inline\n",
    "\n",
    "index = random.randint(0, len(X_train))\n",
    "image = X_train[index].squeeze()\n",
    "\n",
    "plt.figure(figsize=(1,1))\n",
    "plt.imshow(image, cmap = 'gray')\n",
    "\n",
    "print(y_train[index])"
   ]
  },
  {
   "cell_type": "markdown",
   "metadata": {
    "deletable": true,
    "editable": true
   },
   "source": [
    "## Preprocess Data\n",
    "\n",
    "Shuffle the training data.\n",
    "\n",
    "You do not need to modify this section."
   ]
  },
  {
   "cell_type": "code",
   "execution_count": 3,
   "metadata": {
    "collapsed": false,
    "deletable": true,
    "editable": true
   },
   "outputs": [],
   "source": [
    "from sklearn.utils import shuffle\n",
    "\n",
    "X_train, y_train = shuffle(X_train, y_train)"
   ]
  },
  {
   "cell_type": "markdown",
   "metadata": {
    "deletable": true,
    "editable": true
   },
   "source": [
    "## Setup TensorFlow\n",
    "The `EPOCH` and `BATCH_SIZE` values affect the training speed and model accuracy.\n",
    "\n",
    "You do not need to modify this section."
   ]
  },
  {
   "cell_type": "code",
   "execution_count": 4,
   "metadata": {
    "collapsed": true,
    "deletable": true,
    "editable": true
   },
   "outputs": [],
   "source": [
    "import tensorflow as tf\n",
    "\n",
    "EPOCHS = 20\n",
    "BATCH_SIZE = 128"
   ]
  },
  {
   "cell_type": "markdown",
   "metadata": {
    "deletable": true,
    "editable": true
   },
   "source": [
    "## TODO: Implement LeNet-5\n",
    "Implement the [LeNet-5](http://yann.lecun.com/exdb/lenet/) neural network architecture.\n",
    "\n",
    "This is the only cell you need to edit.\n",
    "### Input\n",
    "The LeNet architecture accepts a 32x32xC image as input, where C is the number of color channels. Since MNIST images are grayscale, C is 1 in this case.\n",
    "\n",
    "### Architecture\n",
    "**Layer 1: Convolutional.** The output shape should be 28x28x6.\n",
    "\n",
    "**Activation.** Your choice of activation function.\n",
    "\n",
    "**Pooling.** The output shape should be 14x14x6.\n",
    "\n",
    "**Layer 2: Convolutional.** The output shape should be 10x10x16.\n",
    "\n",
    "**Activation.** Your choice of activation function.\n",
    "\n",
    "**Pooling.** The output shape should be 5x5x16.\n",
    "\n",
    "**Flatten.** Flatten the output shape of the final pooling layer such that it's 1D instead of 3D. The easiest way to do is by using `tf.contrib.layers.flatten`, which is already imported for you.\n",
    "\n",
    "**Layer 3: Fully Connected.** This should have 120 outputs.\n",
    "\n",
    "**Activation.** Your choice of activation function.\n",
    "\n",
    "**Layer 4: Fully Connected.** This should have 84 outputs.\n",
    "\n",
    "**Activation.** Your choice of activation function.\n",
    "\n",
    "**Layer 5: Fully Connected (Logits).** This should have 10 outputs.\n",
    "\n",
    "### Output\n",
    "Return the result of the 2nd fully connected layer."
   ]
  },
  {
   "cell_type": "code",
   "execution_count": 5,
   "metadata": {
    "collapsed": true,
    "deletable": true,
    "editable": true
   },
   "outputs": [],
   "source": [
    "from tensorflow.contrib.layers import flatten\n",
    "\n",
    "def LeNet(x):    \n",
    "    # Arguments used for tf.truncated_normal, randomly defines variables for the weights and biases for each layer\n",
    "    mu = 0\n",
    "    sigma = 0.05\n",
    "    \n",
    "    # TODO: Layer 1: Convolutional. Input = 32x32x1. Output = 28x28x6.\n",
    "    F1_w = tf.Variable(tf.truncated_normal(shape = (5,5,1,6), mean = mu, stddev = sigma))\n",
    "    F1_b = tf.Variable(tf.zeros(6))\n",
    "    c1 = tf.nn.conv2d(x, F1_w, strides = [1,1,1,1], padding = 'VALID') + F1_b\n",
    "   \n",
    "    # TODO: Activation.\n",
    "    c1 = tf.nn.relu(c1)\n",
    "    \n",
    "    # TODO: Pooling. Input = 28x28x6. Output = 14x14x6.\n",
    "    p1 = tf.nn.max_pool(c1, ksize = [1,2,2,1], strides = [1,2,2,1], padding = 'VALID')\n",
    "    \n",
    "    # TODO: Layer 2: Convolutional. Output = 10x10x16.\n",
    "    F2_w = tf.Variable(tf.truncated_normal(shape = (5,5,6,16), mean = mu, stddev = sigma))\n",
    "    F2_b = tf.Variable(tf.zeros(16))   \n",
    "    c2 = tf.nn.conv2d(p1, F2_w, strides = [1,1,1,1], padding = 'VALID') + F2_b\n",
    "    \n",
    "    # TODO: Activation.\n",
    "    c2 = tf.nn.relu(c2)\n",
    "    \n",
    "    # TODO: Pooling. Input = 10x10x16. Output = 5x5x16.\n",
    "    p2 = tf.nn.max_pool(c2, ksize = [1,2,2,1], strides = [1,2,2,1], padding = 'VALID')\n",
    "    \n",
    "    # TODO: Flatten. Input = 5x5x16. Output = 400.\n",
    "    flat_input = flatten(p2)\n",
    "    \n",
    "    # TODO: Layer 3: Fully Connected. Input = 400. Output = 120.\n",
    "    l3_weights = tf.Variable(tf.truncated_normal(shape = (400,120), mean = mu, stddev = sigma))\n",
    "    l3_bias = tf.Variable(tf.zeros(120))\n",
    "    l3 = tf.matmul(flat_input,l3_weights) + l3_bias\n",
    "        \n",
    "    # TODO: Activation.\n",
    "    l3 = tf.nn.relu(l3)\n",
    "\n",
    "    # TODO: Layer 4: Fully Connected. Input = 120. Output = 84.\n",
    "    l4_weights = tf.Variable(tf.truncated_normal(shape = (120,84), mean = mu, stddev = sigma))\n",
    "    l4_bias = tf.Variable(tf.zeros(84))\n",
    "    l4 = tf.matmul(l3,l4_weights) + l4_bias\n",
    "        \n",
    "    # TODO: Activation.\n",
    "    l4 = tf.nn.relu(l4)\n",
    "\n",
    "    # TODO: Layer 5: Fully Connected. Input = 84. Output = 43.\n",
    "    l5_weights = tf.Variable(tf.truncated_normal(shape = (84,43), mean = mu, stddev = sigma))\n",
    "    l5_bias = tf.Variable(tf.zeros(43))\n",
    "    logits = tf.matmul(l4,l5_weights) + l5_bias\n",
    "        \n",
    "    return logits"
   ]
  },
  {
   "cell_type": "markdown",
   "metadata": {
    "deletable": true,
    "editable": true
   },
   "source": [
    "## Features and Labels\n",
    "Train LeNet to classify [MNIST](http://yann.lecun.com/exdb/mnist/) data.\n",
    "\n",
    "`x` is a placeholder for a batch of input images.\n",
    "`y` is a placeholder for a batch of output labels.\n",
    "\n",
    "You do not need to modify this section."
   ]
  },
  {
   "cell_type": "code",
   "execution_count": 6,
   "metadata": {
    "collapsed": false,
    "deletable": true,
    "editable": true
   },
   "outputs": [],
   "source": [
    "x = tf.placeholder(tf.float32, (None, 32, 32, 1))\n",
    "y = tf.placeholder(tf.int32, (None))\n",
    "one_hot_y = tf.one_hot(y, 43)"
   ]
  },
  {
   "cell_type": "markdown",
   "metadata": {
    "deletable": true,
    "editable": true
   },
   "source": [
    "## Training Pipeline\n",
    "Create a training pipeline that uses the model to classify MNIST data.\n",
    "\n",
    "You do not need to modify this section."
   ]
  },
  {
   "cell_type": "code",
   "execution_count": 7,
   "metadata": {
    "collapsed": false,
    "deletable": true,
    "editable": true
   },
   "outputs": [],
   "source": [
    "rate = 0.001\n",
    "\n",
    "logits = LeNet(x)\n",
    "cross_entropy = tf.nn.softmax_cross_entropy_with_logits(logits, one_hot_y)\n",
    "loss_operation = tf.reduce_mean(cross_entropy)\n",
    "optimizer = tf.train.AdamOptimizer(learning_rate = rate)\n",
    "training_operation = optimizer.minimize(loss_operation)"
   ]
  },
  {
   "cell_type": "markdown",
   "metadata": {
    "deletable": true,
    "editable": true
   },
   "source": [
    "## Model Evaluation\n",
    "Evaluate how well the loss and accuracy of the model for a given dataset.\n",
    "\n",
    "You do not need to modify this section."
   ]
  },
  {
   "cell_type": "code",
   "execution_count": 8,
   "metadata": {
    "collapsed": true,
    "deletable": true,
    "editable": true
   },
   "outputs": [],
   "source": [
    "correct_prediction = tf.equal(tf.argmax(logits, 1), tf.argmax(one_hot_y, 1))\n",
    "accuracy_operation = tf.reduce_mean(tf.cast(correct_prediction, tf.float32))\n",
    "saver = tf.train.Saver()\n",
    "\n",
    "def evaluate(X_data, y_data):\n",
    "    num_examples = len(X_data)\n",
    "    total_accuracy = 0\n",
    "    sess = tf.get_default_session()\n",
    "    for offset in range(0, num_examples, BATCH_SIZE):\n",
    "        batch_x, batch_y = X_data[offset:offset+BATCH_SIZE], y_data[offset:offset+BATCH_SIZE]\n",
    "        accuracy = sess.run(accuracy_operation, feed_dict={x: batch_x, y: batch_y})\n",
    "        total_accuracy += (accuracy * len(batch_x))\n",
    "    return total_accuracy / num_examples"
   ]
  },
  {
   "cell_type": "markdown",
   "metadata": {
    "deletable": true,
    "editable": true
   },
   "source": [
    "## Train the Model\n",
    "Run the training data through the training pipeline to train the model.\n",
    "\n",
    "Before each epoch, shuffle the training set.\n",
    "\n",
    "After each epoch, measure the loss and accuracy of the validation set.\n",
    "\n",
    "Save the model after training.\n",
    "\n",
    "You do not need to modify this section."
   ]
  },
  {
   "cell_type": "code",
   "execution_count": 9,
   "metadata": {
    "collapsed": false,
    "deletable": true,
    "editable": true
   },
   "outputs": [
    {
     "name": "stdout",
     "output_type": "stream",
     "text": [
      "Training...\n",
      "\n",
      "EPOCH 1 ...\n",
      "Training Accuracy = 0.176\n",
      "Validation Accuracy = 0.143\n",
      "\n",
      "EPOCH 2 ...\n",
      "Training Accuracy = 0.368\n",
      "Validation Accuracy = 0.272\n",
      "\n",
      "EPOCH 3 ...\n",
      "Training Accuracy = 0.543\n",
      "Validation Accuracy = 0.440\n",
      "\n",
      "EPOCH 4 ...\n",
      "Training Accuracy = 0.653\n",
      "Validation Accuracy = 0.498\n",
      "\n",
      "EPOCH 5 ...\n",
      "Training Accuracy = 0.704\n",
      "Validation Accuracy = 0.566\n",
      "\n",
      "EPOCH 6 ...\n",
      "Training Accuracy = 0.751\n",
      "Validation Accuracy = 0.620\n",
      "\n",
      "EPOCH 7 ...\n",
      "Training Accuracy = 0.798\n",
      "Validation Accuracy = 0.659\n",
      "\n",
      "EPOCH 8 ...\n",
      "Training Accuracy = 0.811\n",
      "Validation Accuracy = 0.658\n",
      "\n",
      "EPOCH 9 ...\n",
      "Training Accuracy = 0.839\n",
      "Validation Accuracy = 0.684\n",
      "\n",
      "EPOCH 10 ...\n",
      "Training Accuracy = 0.856\n",
      "Validation Accuracy = 0.690\n",
      "\n",
      "EPOCH 11 ...\n",
      "Training Accuracy = 0.877\n",
      "Validation Accuracy = 0.694\n",
      "\n",
      "EPOCH 12 ...\n",
      "Training Accuracy = 0.893\n",
      "Validation Accuracy = 0.724\n",
      "\n",
      "EPOCH 13 ...\n",
      "Training Accuracy = 0.883\n",
      "Validation Accuracy = 0.719\n",
      "\n",
      "EPOCH 14 ...\n",
      "Training Accuracy = 0.906\n",
      "Validation Accuracy = 0.730\n",
      "\n",
      "EPOCH 15 ...\n",
      "Training Accuracy = 0.909\n",
      "Validation Accuracy = 0.723\n",
      "\n",
      "EPOCH 16 ...\n",
      "Training Accuracy = 0.917\n",
      "Validation Accuracy = 0.733\n",
      "\n",
      "EPOCH 17 ...\n",
      "Training Accuracy = 0.922\n",
      "Validation Accuracy = 0.742\n",
      "\n",
      "EPOCH 18 ...\n",
      "Training Accuracy = 0.925\n",
      "Validation Accuracy = 0.733\n",
      "\n",
      "EPOCH 19 ...\n",
      "Training Accuracy = 0.938\n",
      "Validation Accuracy = 0.763\n",
      "\n",
      "EPOCH 20 ...\n",
      "Training Accuracy = 0.941\n",
      "Validation Accuracy = 0.747\n",
      "\n"
     ]
    },
    {
     "data": {
      "image/png": "[encoded data removed]",
      "text/plain": [
       "<matplotlib.figure.Figure at 0x31f9a048>"
      ]
     },
     "metadata": {},
     "output_type": "display_data"
    },
    {
     "name": "stdout",
     "output_type": "stream",
     "text": [
      "Model saved\n"
     ]
    }
   ],
   "source": [
    "with tf.Session() as sess:\n",
    "    sess.run(tf.global_variables_initializer())\n",
    "    num_examples = len(X_train)\n",
    "    \n",
    "    print(\"Training...\")\n",
    "    print()\n",
    "    trainacc = []\n",
    "    validacc = []    \n",
    "    for i in range(EPOCHS):\n",
    "        X_train, y_train = shuffle(X_train, y_train)\n",
    "        for offset in range(0, num_examples, BATCH_SIZE):\n",
    "            end = offset + BATCH_SIZE\n",
    "            batch_x, batch_y = X_train[offset:end], y_train[offset:end]\n",
    "            sess.run(training_operation, feed_dict={x: batch_x, y: batch_y})\n",
    "        \n",
    "        training_accuracy = evaluate(X_train, y_train)\n",
    "        validation_accuracy = evaluate(X_valid, y_valid)        \n",
    "        print(\"EPOCH {} ...\".format(i+1))\n",
    "        print(\"Training Accuracy = {:.3f}\".format(training_accuracy))\n",
    "        print(\"Validation Accuracy = {:.3f}\".format(validation_accuracy))\n",
    "        print()\n",
    "        validacc = validacc + [validation_accuracy]\n",
    "        trainacc = trainacc + [training_accuracy]\n",
    "    \n",
    "    x_axis = list(range(1,EPOCHS+1))\n",
    "    plt.plot(x_axis, trainacc, 'r-', label = \"train\")\n",
    "    plt.plot(x_axis, validacc, 'b-', label = \"valid\")    \n",
    "    plt.show()\n",
    "    saver.save(sess, './lenet')\n",
    "    print(\"Model saved\")"
   ]
  },
  {
   "cell_type": "markdown",
   "metadata": {
    "deletable": true,
    "editable": true
   },
   "source": [
    "## Evaluate the Model\n",
    "Once you are completely satisfied with your model, evaluate the performance of the model on the test set.\n",
    "\n",
    "Be sure to only do this once!\n",
    "\n",
    "If you were to measure the performance of your trained model on the test set, then improve your model, and then measure the performance of your model on the test set again, that would invalidate your test results. You wouldn't get a true measure of how well your model would perform against real data.\n",
    "\n",
    "You do not need to modify this section."
   ]
  },
  {
   "cell_type": "code",
   "execution_count": 10,
   "metadata": {
    "collapsed": false,
    "deletable": true,
    "editable": true
   },
   "outputs": [
    {
     "data": {
      "text/plain": [
       "'with tf.Session() as sess:\\n    saver.restore(sess, tf.train.latest_checkpoint(\\'.\\'))\\n\\n    test_accuracy = evaluate(X_test, y_test)\\n    print(\"Test Accuracy = {:.3f}\".format(test_accuracy))\\n'"
      ]
     },
     "execution_count": 10,
     "metadata": {},
     "output_type": "execute_result"
    }
   ],
   "source": [
    "\"\"\"with tf.Session() as sess:\n",
    "    saver.restore(sess, tf.train.latest_checkpoint('.'))\n",
    "\n",
    "    test_accuracy = evaluate(X_test, y_test)\n",
    "    print(\"Test Accuracy = {:.3f}\".format(test_accuracy))\n",
    "\"\"\""
   ]
  }
 ],
 "metadata": {
  "anaconda-cloud": {},
  "kernelspec": {
   "display_name": "Python 3",
   "language": "python",
   "name": "python3"
  },
  "language_info": {
   "codemirror_mode": {
    "name": "ipython",
    "version": 3
   },
   "file_extension": ".py",
   "mimetype": "text/x-python",
   "name": "python",
   "nbconvert_exporter": "python",
   "pygments_lexer": "ipython3",
   "version": "3.5.2"
  },
  "widgets": {
   "state": {},
   "version": "1.1.2"
  }
 },
 "nbformat": 4,
 "nbformat_minor": 0
}
